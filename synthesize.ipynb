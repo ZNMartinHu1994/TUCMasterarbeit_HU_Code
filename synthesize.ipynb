{
 "cells": [
  {
   "cell_type": "code",
   "execution_count": 1,
   "id": "c96daf0d",
   "metadata": {},
   "outputs": [],
   "source": [
    "import os\n",
    "import cv2"
   ]
  },
  {
   "cell_type": "code",
   "execution_count": 2,
   "id": "957b0b7c",
   "metadata": {},
   "outputs": [],
   "source": [
    "# Setting the input folder path and output folder path\n",
    "input_folder = r'./newdata/h_b/DCGan/1_type2_bad'\n",
    "output_folder = r'C:/work/data/2.hybrid_dataset_1_balance/DCGan/type1/bad'\n",
    "\n",
    "# Ensure that the output folder exists\n",
    "if not os.path.exists(output_folder):\n",
    "    os.makedirs(output_folder)\n",
    "\n",
    "# Get all file names in the input folder\n",
    "file_names = os.listdir(input_folder)"
   ]
  },
  {
   "cell_type": "code",
   "execution_count": 3,
   "id": "708258b5",
   "metadata": {},
   "outputs": [],
   "source": [
    "# Iteratively process each image\n",
    "for i, file_name in enumerate(file_names):\n",
    "    # Build file path\n",
    "    input_path = os.path.join(input_folder, file_name)\n",
    "    \n",
    "    # Read the image\n",
    "    image = cv2.imread(input_path)\n",
    "    \n",
    "    # Convert to grayscale\n",
    "    image = cv2.cvtColor(image, cv2.COLOR_BGR2GRAY)\n",
    "    \n",
    "    # Resize to (width, height)\n",
    "    flipped_image = cv2.resize(image, (379, 56))\n",
    "    \n",
    "    '''Use these two lines only when training CycleGan preprocessing'''\n",
    "    # flipped_image = cv2.flip(flipped_image, 1) # Horizontal Flip\n",
    "    # flipped_image = cv2.flip(flipped_image, 0) # Vertical Flip\n",
    "    \n",
    "    # Build the output file path and filename\n",
    "    output_file_name = f'type2_hd1_DCGan_bad_{i+1}.bmp'\n",
    "    output_path = os.path.join(output_folder, output_file_name)\n",
    "    \n",
    "    # Saving a resized image\n",
    "    cv2.imwrite(output_path, flipped_image)"
   ]
  },
  {
   "cell_type": "code",
   "execution_count": null,
   "id": "8f7de369",
   "metadata": {},
   "outputs": [],
   "source": []
  }
 ],
 "metadata": {
  "kernelspec": {
   "display_name": "Python 3 (ipykernel)",
   "language": "python",
   "name": "python3"
  },
  "language_info": {
   "codemirror_mode": {
    "name": "ipython",
    "version": 3
   },
   "file_extension": ".py",
   "mimetype": "text/x-python",
   "name": "python",
   "nbconvert_exporter": "python",
   "pygments_lexer": "ipython3",
   "version": "3.9.7"
  }
 },
 "nbformat": 4,
 "nbformat_minor": 5
}
